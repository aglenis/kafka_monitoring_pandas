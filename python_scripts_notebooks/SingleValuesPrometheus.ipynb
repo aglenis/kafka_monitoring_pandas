{
 "cells": [
  {
   "cell_type": "code",
   "execution_count": 1,
   "metadata": {},
   "outputs": [],
   "source": [
    "from prometheus_client.parser import text_string_to_metric_families\n",
    "import requests\n",
    "import json\n",
    "import pandas as pd\n",
    "import matplotlib.pyplot as plt\n",
    "import math"
   ]
  },
  {
   "cell_type": "code",
   "execution_count": 58,
   "metadata": {},
   "outputs": [],
   "source": [
    "prometheus_hostname = 'localhost'\n",
    "prometheus_port = '9090'\n",
    "target_metric = 'kafka_server_brokertopicmetrics_messagesin_total'\n",
    "target_topic = 'test_topic'"
   ]
  },
  {
   "cell_type": "code",
   "execution_count": 59,
   "metadata": {},
   "outputs": [
    {
     "name": "stdout",
     "output_type": "stream",
     "text": [
      "sum(kafka_server_brokertopicmetrics_messagesin_total{topic=\"rdfizer_output_rep1_part12_threads1_v2_correct2\"})\n"
     ]
    }
   ],
   "source": [
    "prometheus_query2 = 'sum({0}{{topic=\"{1}\"}})'.format(target_metric,target_topic)\n",
    "start_time_unix2 = '1509452383'\n",
    "\n",
    "print(prometheus_query2)\n",
    "\n",
    "query_str2 = \"http://{0}:{1}/api/v1/query?query={2}&time={3}\".format(prometheus_hostname,\n",
    "                    prometheus_port,\n",
    "                    prometheus_query2,\n",
    "                    start_time_unix2)"
   ]
  },
  {
   "cell_type": "code",
   "execution_count": 60,
   "metadata": {},
   "outputs": [
    {
     "name": "stdout",
     "output_type": "stream",
     "text": [
      "[{'value': [1509452383, '18096511'], 'metric': {}}]\n"
     ]
    }
   ],
   "source": [
    "metrics2 = requests.get(query_str2).content\n",
    "json_object2 = json.loads(metrics2.decode('utf-8'))\n",
    "#print(json_object2)\n",
    "result2=json_object2['data']['result']\n",
    "print(result2)"
   ]
  },
  {
   "cell_type": "code",
   "execution_count": 26,
   "metadata": {},
   "outputs": [
    {
     "data": {
      "text/plain": [
       "4469908"
      ]
     },
     "execution_count": 26,
     "metadata": {},
     "output_type": "execute_result"
    }
   ],
   "source": [
    "4469908"
   ]
  },
  {
   "cell_type": "code",
   "execution_count": 29,
   "metadata": {},
   "outputs": [
    {
     "data": {
      "text/plain": [
       "44986878126"
      ]
     },
     "execution_count": 29,
     "metadata": {},
     "output_type": "execute_result"
    }
   ],
   "source": [
    "44991348034-4469908"
   ]
  },
  {
   "cell_type": "code",
   "execution_count": null,
   "metadata": {},
   "outputs": [],
   "source": []
  }
 ],
 "metadata": {
  "kernelspec": {
   "display_name": "Python 3",
   "language": "python",
   "name": "python3"
  },
  "language_info": {
   "codemirror_mode": {
    "name": "ipython",
    "version": 3
   },
   "file_extension": ".py",
   "mimetype": "text/x-python",
   "name": "python",
   "nbconvert_exporter": "python",
   "pygments_lexer": "ipython3",
   "version": "3.5.2"
  }
 },
 "nbformat": 4,
 "nbformat_minor": 2
}
